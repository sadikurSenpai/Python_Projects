{
 "cells": [
  {
   "cell_type": "markdown",
   "id": "eb283754",
   "metadata": {},
   "source": [
    "## Rock Paper Scissors \n",
    "###### This game is a 5 round game between you and computer\n",
    "- conditionals (if-else)\n",
    "- loops (for)\n",
    "- random modules"
   ]
  },
  {
   "cell_type": "code",
   "execution_count": 1,
   "id": "00d344e5",
   "metadata": {},
   "outputs": [
    {
     "name": "stdout",
     "output_type": "stream",
     "text": [
      "Enter your choice among (('rock', 'paper', 'scissors')) : roc\n",
      "Enter your choice among (('rock', 'paper', 'scissors')) : rock\n",
      "Your choice : rock\n",
      "Computer's choice : scissors\n",
      "You won this round !\n",
      "\n",
      "Enter your choice among (('rock', 'paper', 'scissors')) : rock\n",
      "Your choice : rock\n",
      "Computer's choice : paper\n",
      "You lost this round !\n",
      "\n",
      "Enter your choice among (('rock', 'paper', 'scissors')) : paper\n",
      "Your choice : paper\n",
      "Computer's choice : rock\n",
      "You won this round !\n",
      "\n",
      "Enter your choice among (('rock', 'paper', 'scissors')) : scissors\n",
      "Your choice : scissors\n",
      "Computer's choice : scissors\n",
      "Draw !\n",
      "\n",
      "Enter your choice among (('rock', 'paper', 'scissors')) : rock\n",
      "Your choice : rock\n",
      "Computer's choice : paper\n",
      "You lost this round !\n",
      "\n",
      "The series have been drawn.\n"
     ]
    }
   ],
   "source": [
    "import random\n",
    "\n",
    "human_score = 0\n",
    "computer_score = 0\n",
    "options = (\"rock\", \"paper\", \"scissors\")\n",
    "\n",
    "\n",
    "for i in range(1,6):\n",
    "    human = None\n",
    "    computer = random.choice(options)\n",
    "    while human not in options:\n",
    "        human = input(f\"Enter your choice among ({options}) : \")\n",
    "  \n",
    "    print(f\"Your choice : {human}\")\n",
    "    print(f\"Computer's choice : {computer}\")\n",
    "    if human == computer:\n",
    "        print(\"Draw !\")\n",
    "    elif human == \"rock\" and computer == \"scissors\":\n",
    "        print(\"You won this round !\")\n",
    "        human_score += 1\n",
    "    elif human == \"paper\" and computer == \"rock\":\n",
    "        print(\"You won this round !\")\n",
    "        human_score += 1\n",
    "    elif human == \"scissors\" and computer == \"paper\":\n",
    "        print(\"You won this round !\")\n",
    "        human_score += 1\n",
    "    else:\n",
    "        print(\"You lost this round !\")\n",
    "        computer_score += 1\n",
    "    print(\"\")\n",
    "\n",
    "if human_score > computer_score:\n",
    "    print(\"Congratulations !!\\nYou have won the series.\")\n",
    "elif computer_score > human_score:\n",
    "    print(\"Better luck next time !!\\nYou have lost the series.\")\n",
    "else:\n",
    "    print(\"The series have been drawn.\")\n"
   ]
  },
  {
   "cell_type": "code",
   "execution_count": null,
   "id": "743f0142",
   "metadata": {},
   "outputs": [],
   "source": []
  }
 ],
 "metadata": {
  "kernelspec": {
   "display_name": "Python 3 (ipykernel)",
   "language": "python",
   "name": "python3"
  },
  "language_info": {
   "codemirror_mode": {
    "name": "ipython",
    "version": 3
   },
   "file_extension": ".py",
   "mimetype": "text/x-python",
   "name": "python",
   "nbconvert_exporter": "python",
   "pygments_lexer": "ipython3",
   "version": "3.11.5"
  }
 },
 "nbformat": 4,
 "nbformat_minor": 5
}
