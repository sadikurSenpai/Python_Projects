{
 "cells": [
  {
   "cell_type": "markdown",
   "id": "4538057d",
   "metadata": {},
   "source": [
    "# Quiz Game\n",
    "- conditionals (if-else)\n",
    "- loops (for)\n",
    "- tuples"
   ]
  },
  {
   "cell_type": "code",
   "execution_count": 19,
   "id": "5758e524",
   "metadata": {},
   "outputs": [
    {
     "name": "stdout",
     "output_type": "stream",
     "text": [
      "**************************************************\n",
      "Enter your name : Abir\n",
      "\n",
      "\n",
      "\n",
      "**************************************************\n",
      "Welcome dear Abir into this quiz. You have to choose an option for each question.\n",
      "\n",
      "\n",
      "\n",
      "How many elements are there in Periodic Table? \n",
      "('A. 116', 'B. 117', 'C. 118', 'D. 119')\n",
      "Enter your choice : c\n",
      "\n",
      "\n",
      "\n",
      "Which animal lays the largest eggs?  \n",
      "('A. Whale', 'B. Crocodile', 'C. Elephant', 'D. Ostrich')\n",
      "Enter your choice : d\n",
      "\n",
      "\n",
      "\n",
      "What is the most abundant gas in Earth's atmosphere? \n",
      "('A. Nitrogen', 'B. Oxygen', 'C. Carbon-Dioxide', 'D. Hydrogen')\n",
      "Enter your choice : a\n",
      "\n",
      "\n",
      "\n",
      "How many bones are in the human body? \n",
      "('A. 206', 'B. 207', 'C. 208', 'D. 209')\n",
      "Enter your choice : a\n",
      "\n",
      "\n",
      "\n",
      "Which plant in the solar system is the hottest? \n",
      "('A. Mercury', 'B. Venus', 'C. Earth', 'D. Mars')\n",
      "Enter your choice : d\n",
      "\n",
      "\n",
      "\n",
      "Dear Abir, You got 40 out of 50\n"
     ]
    }
   ],
   "source": [
    "print(50*'*')            # for displaying 50 '*'\n",
    "username = input(\"Enter your name : \")  # taking username from the user\n",
    "print(2*\"\\n\")           # for displaying 2 new line\n",
    "print(50*'*')\n",
    "print(f'Welcome dear {username} into this quiz. You have to choose an option for each question.')\n",
    "questions = ('How many elements are there in Periodic Table? ',          # tuples for fixed questions\n",
    "           'Which animal lays the largest eggs?  ',\n",
    "           \"What is the most abundant gas in Earth's atmosphere? \",\n",
    "           \"How many bones are in the human body? \",\n",
    "           \"Which plant in the solar system is the hottest? \")\n",
    "options = (('A. 116','B. 117','C. 118','D. 119'),                        # tuples for fixed options\n",
    "         ('A. Whale','B. Crocodile','C. Elephant','D. Ostrich'),\n",
    "         ('A. Nitrogen','B. Oxygen','C. Carbon-Dioxide','D. Hydrogen'),\n",
    "         ('A. 206','B. 207','C. 208','D. 209'),\n",
    "         ('A. Mercury','B. Venus','C. Earth','D. Mars')\n",
    "        )\n",
    "answers = (\"C\", \"D\", \"A\", \"A\", \"B\")                                      # tuples for fixed answers\n",
    "score = 0\n",
    "for question in questions:   # to iterate through each questions\n",
    "    print(2*\"\\n\")\n",
    "    print(question)          # to print the individual question\n",
    "    print(options[questions.index(question)])  # here 'questions.index(question)'will generate the index number of that question\n",
    "    ans = input(\"Enter your choice : \")    # which will be used for generating the options and correct answer for that question\n",
    "    if ans.upper() == answers[questions.index(question)]:                      \n",
    "        score += 10\n",
    "print(2*\"\\n\")\n",
    "print(f\"Dear {username}, You got {score} out of 50\")\n"
   ]
  },
  {
   "cell_type": "code",
   "execution_count": null,
   "id": "4e3e7c03",
   "metadata": {},
   "outputs": [],
   "source": []
  }
 ],
 "metadata": {
  "kernelspec": {
   "display_name": "Python 3 (ipykernel)",
   "language": "python",
   "name": "python3"
  },
  "language_info": {
   "codemirror_mode": {
    "name": "ipython",
    "version": 3
   },
   "file_extension": ".py",
   "mimetype": "text/x-python",
   "name": "python",
   "nbconvert_exporter": "python",
   "pygments_lexer": "ipython3",
   "version": "3.11.5"
  }
 },
 "nbformat": 4,
 "nbformat_minor": 5
}
