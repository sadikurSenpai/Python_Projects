{
 "cells": [
  {
   "cell_type": "markdown",
   "id": "7c1f432c",
   "metadata": {},
   "source": [
    "## Guess the number\n",
    "- conditionals (if-else)\n",
    "- loops (while)\n",
    "- random module"
   ]
  },
  {
   "cell_type": "code",
   "execution_count": 3,
   "id": "91abc0bb",
   "metadata": {},
   "outputs": [
    {
     "name": "stdout",
     "output_type": "stream",
     "text": [
      "Guess a number between (1 - 100) : 50\n",
      "Try generating a smaller number !\n",
      "Guess a number between (1 - 100) : 25\n",
      "Try generating a smaller number !\n",
      "Guess a number between (1 - 100) : 13\n",
      "Try generating a greater number !\n",
      "Guess a number between (1 - 100) : 19\n",
      "Try generating a greater number !\n",
      "Guess a number between (1 - 100) : 22\n",
      "Try generating a smaller number !\n",
      "Guess a number between (1 - 100) : 20\n",
      "Correct guess !!!\n",
      "You took 6 rounds to guess the number correct.\n"
     ]
    }
   ],
   "source": [
    "import random\n",
    "low = 1\n",
    "high = 100\n",
    "guesses = 0\n",
    "num = random.randint(low, high)       # generating a random number between a range which will be our target number to guess \n",
    "\n",
    "while True:\n",
    "    guess = int(input(f\"Guess a number between ({low} - {high}) : \"))\n",
    "    guesses +=1      # whatever the input is, correct or not the round to guess the correct number would increament\n",
    "    if guess < num:\n",
    "        print(\"Try generating a greater number !\")       # giving hints to the user about his guess\n",
    "    elif guess > num:\n",
    "        print(\"Try generating a smaller number !\")\n",
    "    else:\n",
    "        print(\"Correct guess !!!\")\n",
    "        break\n",
    "print(f\"You took {guesses} rounds to guess the number correct.\")  "
   ]
  },
  {
   "cell_type": "code",
   "execution_count": null,
   "id": "8b8ebfa9",
   "metadata": {},
   "outputs": [],
   "source": []
  }
 ],
 "metadata": {
  "kernelspec": {
   "display_name": "Python 3 (ipykernel)",
   "language": "python",
   "name": "python3"
  },
  "language_info": {
   "codemirror_mode": {
    "name": "ipython",
    "version": 3
   },
   "file_extension": ".py",
   "mimetype": "text/x-python",
   "name": "python",
   "nbconvert_exporter": "python",
   "pygments_lexer": "ipython3",
   "version": "3.11.5"
  }
 },
 "nbformat": 4,
 "nbformat_minor": 5
}
