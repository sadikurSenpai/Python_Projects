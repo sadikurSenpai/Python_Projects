{
 "cells": [
  {
   "cell_type": "markdown",
   "id": "38496a7e",
   "metadata": {},
   "source": [
    "## Encryption and Decryption\n",
    "- random module\n",
    "- string module\n",
    "- loops (for each)"
   ]
  },
  {
   "cell_type": "code",
   "execution_count": 17,
   "id": "52b8f318",
   "metadata": {},
   "outputs": [
    {
     "name": "stdout",
     "output_type": "stream",
     "text": [
      "Enter your text : I am Md. Shadikur Rahman Sheam\n",
      "--------------------\n",
      "Normal text : I am Md. Shadikur Rahman Sheam\n",
      "Encrypted text : ATz^T\\hLT!Pzh#:CoT+zP^z>T!Ppz^\n",
      "--------------------\n",
      "Decrypted text : I am Md. Shadikur Rahman Sheam\n"
     ]
    }
   ],
   "source": [
    "import random\n",
    "import string\n",
    "\n",
    "chars = \" \" + string.ascii_letters + string.digits + string.punctuation #to make a string including all characters from keyboard\n",
    "chars = list(chars)   # typecast to list those each character from string\n",
    "keys = chars.copy()\n",
    "random.shuffle(keys)  # shuffle the keys so that everytime the encryption works randomly\n",
    "\n",
    "plain_text = input(\"Enter your text : \")\n",
    "cipher_text = \"\"\n",
    "print(10*'--')\n",
    "for letter in plain_text:\n",
    "    cipher_text += keys[chars.index(letter)]    # from chars.index() we get the index from chars list which we use in keys list\n",
    "    \n",
    "print(f\"Normal text : {plain_text}\")\n",
    "print(f\"Encrypted text : {cipher_text}\")\n",
    "print(10*'--')\n",
    "plain_text = \"\"\n",
    "for letter in cipher_text:\n",
    "    plain_text += chars[keys.index(letter)]    # decryption is just the reverse functionality of encryption(using keys index)  \n",
    "print(f\"Decrypted text : {plain_text}\")\n"
   ]
  },
  {
   "cell_type": "code",
   "execution_count": null,
   "id": "b9f4b013",
   "metadata": {},
   "outputs": [],
   "source": []
  }
 ],
 "metadata": {
  "kernelspec": {
   "display_name": "Python 3 (ipykernel)",
   "language": "python",
   "name": "python3"
  },
  "language_info": {
   "codemirror_mode": {
    "name": "ipython",
    "version": 3
   },
   "file_extension": ".py",
   "mimetype": "text/x-python",
   "name": "python",
   "nbconvert_exporter": "python",
   "pygments_lexer": "ipython3",
   "version": "3.11.5"
  }
 },
 "nbformat": 4,
 "nbformat_minor": 5
}
